{
 "cells": [
  {
   "cell_type": "code",
   "execution_count": 5,
   "metadata": {},
   "outputs": [],
   "source": [
    "from pandas import DataFrame"
   ]
  },
  {
   "cell_type": "markdown",
   "metadata": {},
   "source": [
    "78 - Dataframe"
   ]
  },
  {
   "cell_type": "code",
   "execution_count": 6,
   "metadata": {},
   "outputs": [],
   "source": [
    "data = {\n",
    "    \"Name\" : [\"Asep\", \"John\", \"Sam\"],\n",
    "    \"Age\"  : [20, 30, 15],\n",
    "    \"Salary\" : [5000, 6000, 2000],\n",
    "}\n"
   ]
  },
  {
   "cell_type": "code",
   "execution_count": 7,
   "metadata": {},
   "outputs": [
    {
     "data": {
      "text/html": [
       "<div>\n",
       "<style scoped>\n",
       "    .dataframe tbody tr th:only-of-type {\n",
       "        vertical-align: middle;\n",
       "    }\n",
       "\n",
       "    .dataframe tbody tr th {\n",
       "        vertical-align: top;\n",
       "    }\n",
       "\n",
       "    .dataframe thead th {\n",
       "        text-align: right;\n",
       "    }\n",
       "</style>\n",
       "<table border=\"1\" class=\"dataframe\">\n",
       "  <thead>\n",
       "    <tr style=\"text-align: right;\">\n",
       "      <th></th>\n",
       "      <th>Name</th>\n",
       "      <th>Age</th>\n",
       "      <th>Salary</th>\n",
       "    </tr>\n",
       "  </thead>\n",
       "  <tbody>\n",
       "    <tr>\n",
       "      <th>0</th>\n",
       "      <td>Asep</td>\n",
       "      <td>20</td>\n",
       "      <td>5000</td>\n",
       "    </tr>\n",
       "    <tr>\n",
       "      <th>1</th>\n",
       "      <td>John</td>\n",
       "      <td>30</td>\n",
       "      <td>6000</td>\n",
       "    </tr>\n",
       "    <tr>\n",
       "      <th>2</th>\n",
       "      <td>Sam</td>\n",
       "      <td>15</td>\n",
       "      <td>2000</td>\n",
       "    </tr>\n",
       "  </tbody>\n",
       "</table>\n",
       "</div>"
      ],
      "text/plain": [
       "   Name  Age  Salary\n",
       "0  Asep   20    5000\n",
       "1  John   30    6000\n",
       "2   Sam   15    2000"
      ]
     },
     "execution_count": 7,
     "metadata": {},
     "output_type": "execute_result"
    }
   ],
   "source": [
    "df = DataFrame(data)\n",
    "df"
   ]
  },
  {
   "cell_type": "markdown",
   "metadata": {},
   "source": [
    "79 - Changing Column"
   ]
  },
  {
   "cell_type": "code",
   "execution_count": 8,
   "metadata": {},
   "outputs": [
    {
     "data": {
      "text/html": [
       "<div>\n",
       "<style scoped>\n",
       "    .dataframe tbody tr th:only-of-type {\n",
       "        vertical-align: middle;\n",
       "    }\n",
       "\n",
       "    .dataframe tbody tr th {\n",
       "        vertical-align: top;\n",
       "    }\n",
       "\n",
       "    .dataframe thead th {\n",
       "        text-align: right;\n",
       "    }\n",
       "</style>\n",
       "<table border=\"1\" class=\"dataframe\">\n",
       "  <thead>\n",
       "    <tr style=\"text-align: right;\">\n",
       "      <th></th>\n",
       "      <th>Age</th>\n",
       "      <th>Name</th>\n",
       "      <th>Salary</th>\n",
       "      <th>Profile</th>\n",
       "    </tr>\n",
       "  </thead>\n",
       "  <tbody>\n",
       "    <tr>\n",
       "      <th>0</th>\n",
       "      <td>20</td>\n",
       "      <td>Asep</td>\n",
       "      <td>5000</td>\n",
       "      <td>NaN</td>\n",
       "    </tr>\n",
       "    <tr>\n",
       "      <th>1</th>\n",
       "      <td>30</td>\n",
       "      <td>John</td>\n",
       "      <td>6000</td>\n",
       "      <td>NaN</td>\n",
       "    </tr>\n",
       "    <tr>\n",
       "      <th>2</th>\n",
       "      <td>15</td>\n",
       "      <td>Sam</td>\n",
       "      <td>2000</td>\n",
       "      <td>NaN</td>\n",
       "    </tr>\n",
       "  </tbody>\n",
       "</table>\n",
       "</div>"
      ],
      "text/plain": [
       "   Age  Name  Salary Profile\n",
       "0   20  Asep    5000     NaN\n",
       "1   30  John    6000     NaN\n",
       "2   15   Sam    2000     NaN"
      ]
     },
     "execution_count": 8,
     "metadata": {},
     "output_type": "execute_result"
    }
   ],
   "source": [
    "newframe = DataFrame(data, columns=['Age', 'Name', 'Salary', 'Profile'])\n",
    "newframe"
   ]
  },
  {
   "cell_type": "code",
   "execution_count": 9,
   "metadata": {},
   "outputs": [
    {
     "data": {
      "text/plain": [
       "0    5000\n",
       "1    6000\n",
       "2    2000\n",
       "Name: Salary, dtype: int64"
      ]
     },
     "execution_count": 9,
     "metadata": {},
     "output_type": "execute_result"
    }
   ],
   "source": [
    "newframe[\"Salary\"]"
   ]
  },
  {
   "cell_type": "code",
   "execution_count": 10,
   "metadata": {},
   "outputs": [
    {
     "data": {
      "text/plain": [
       "Age          30\n",
       "Name       John\n",
       "Salary     6000\n",
       "Profile     NaN\n",
       "Name: 1, dtype: object"
      ]
     },
     "execution_count": 10,
     "metadata": {},
     "output_type": "execute_result"
    }
   ],
   "source": [
    "newframe.loc[1]"
   ]
  },
  {
   "cell_type": "markdown",
   "metadata": {},
   "source": [
    "80 - Changing and Transposing Column"
   ]
  },
  {
   "cell_type": "code",
   "execution_count": 12,
   "metadata": {},
   "outputs": [
    {
     "data": {
      "text/html": [
       "<div>\n",
       "<style scoped>\n",
       "    .dataframe tbody tr th:only-of-type {\n",
       "        vertical-align: middle;\n",
       "    }\n",
       "\n",
       "    .dataframe tbody tr th {\n",
       "        vertical-align: top;\n",
       "    }\n",
       "\n",
       "    .dataframe thead th {\n",
       "        text-align: right;\n",
       "    }\n",
       "</style>\n",
       "<table border=\"1\" class=\"dataframe\">\n",
       "  <thead>\n",
       "    <tr style=\"text-align: right;\">\n",
       "      <th></th>\n",
       "      <th>Age</th>\n",
       "      <th>Name</th>\n",
       "      <th>Salary</th>\n",
       "      <th>Profile</th>\n",
       "    </tr>\n",
       "  </thead>\n",
       "  <tbody>\n",
       "    <tr>\n",
       "      <th>0</th>\n",
       "      <td>20</td>\n",
       "      <td>Asep</td>\n",
       "      <td>5000</td>\n",
       "      <td>Content Creator</td>\n",
       "    </tr>\n",
       "    <tr>\n",
       "      <th>1</th>\n",
       "      <td>30</td>\n",
       "      <td>John</td>\n",
       "      <td>6000</td>\n",
       "      <td>Content Creator</td>\n",
       "    </tr>\n",
       "    <tr>\n",
       "      <th>2</th>\n",
       "      <td>15</td>\n",
       "      <td>Sam</td>\n",
       "      <td>2000</td>\n",
       "      <td>Content Creator</td>\n",
       "    </tr>\n",
       "  </tbody>\n",
       "</table>\n",
       "</div>"
      ],
      "text/plain": [
       "   Age  Name  Salary          Profile\n",
       "0   20  Asep    5000  Content Creator\n",
       "1   30  John    6000  Content Creator\n",
       "2   15   Sam    2000  Content Creator"
      ]
     },
     "execution_count": 12,
     "metadata": {},
     "output_type": "execute_result"
    }
   ],
   "source": [
    "newframe['Profile']=\"Content Creator\"\n",
    "newframe"
   ]
  },
  {
   "cell_type": "code",
   "execution_count": 13,
   "metadata": {},
   "outputs": [
    {
     "data": {
      "text/html": [
       "<div>\n",
       "<style scoped>\n",
       "    .dataframe tbody tr th:only-of-type {\n",
       "        vertical-align: middle;\n",
       "    }\n",
       "\n",
       "    .dataframe tbody tr th {\n",
       "        vertical-align: top;\n",
       "    }\n",
       "\n",
       "    .dataframe thead th {\n",
       "        text-align: right;\n",
       "    }\n",
       "</style>\n",
       "<table border=\"1\" class=\"dataframe\">\n",
       "  <thead>\n",
       "    <tr style=\"text-align: right;\">\n",
       "      <th></th>\n",
       "      <th>Age</th>\n",
       "      <th>Name</th>\n",
       "      <th>Salary</th>\n",
       "      <th>Profile</th>\n",
       "      <th>Education</th>\n",
       "    </tr>\n",
       "  </thead>\n",
       "  <tbody>\n",
       "    <tr>\n",
       "      <th>0</th>\n",
       "      <td>20</td>\n",
       "      <td>Asep</td>\n",
       "      <td>5000</td>\n",
       "      <td>Content Creator</td>\n",
       "      <td>Bachelor</td>\n",
       "    </tr>\n",
       "    <tr>\n",
       "      <th>1</th>\n",
       "      <td>30</td>\n",
       "      <td>John</td>\n",
       "      <td>6000</td>\n",
       "      <td>Content Creator</td>\n",
       "      <td>Bachelor</td>\n",
       "    </tr>\n",
       "    <tr>\n",
       "      <th>2</th>\n",
       "      <td>15</td>\n",
       "      <td>Sam</td>\n",
       "      <td>2000</td>\n",
       "      <td>Content Creator</td>\n",
       "      <td>Bachelor</td>\n",
       "    </tr>\n",
       "  </tbody>\n",
       "</table>\n",
       "</div>"
      ],
      "text/plain": [
       "   Age  Name  Salary          Profile Education\n",
       "0   20  Asep    5000  Content Creator  Bachelor\n",
       "1   30  John    6000  Content Creator  Bachelor\n",
       "2   15   Sam    2000  Content Creator  Bachelor"
      ]
     },
     "execution_count": 13,
     "metadata": {},
     "output_type": "execute_result"
    }
   ],
   "source": [
    "newframe['Education'] = 'Bachelor'\n",
    "newframe"
   ]
  },
  {
   "cell_type": "code",
   "execution_count": 19,
   "metadata": {},
   "outputs": [
    {
     "data": {
      "text/html": [
       "<div>\n",
       "<style scoped>\n",
       "    .dataframe tbody tr th:only-of-type {\n",
       "        vertical-align: middle;\n",
       "    }\n",
       "\n",
       "    .dataframe tbody tr th {\n",
       "        vertical-align: top;\n",
       "    }\n",
       "\n",
       "    .dataframe thead th {\n",
       "        text-align: right;\n",
       "    }\n",
       "</style>\n",
       "<table border=\"1\" class=\"dataframe\">\n",
       "  <thead>\n",
       "    <tr style=\"text-align: right;\">\n",
       "      <th></th>\n",
       "      <th>Age</th>\n",
       "      <th>Name</th>\n",
       "      <th>Salary</th>\n",
       "      <th>Profile</th>\n",
       "      <th>Education</th>\n",
       "    </tr>\n",
       "  </thead>\n",
       "  <tbody>\n",
       "    <tr>\n",
       "      <th>0</th>\n",
       "      <td>20</td>\n",
       "      <td>Asep</td>\n",
       "      <td>5000</td>\n",
       "      <td>Content Creator</td>\n",
       "      <td>Bachelor</td>\n",
       "    </tr>\n",
       "    <tr>\n",
       "      <th>1</th>\n",
       "      <td>30</td>\n",
       "      <td>John</td>\n",
       "      <td>6000</td>\n",
       "      <td>Content Creator</td>\n",
       "      <td>Bachelor</td>\n",
       "    </tr>\n",
       "    <tr>\n",
       "      <th>2</th>\n",
       "      <td>15</td>\n",
       "      <td>Sam</td>\n",
       "      <td>2000</td>\n",
       "      <td>Content Creator</td>\n",
       "      <td>Bachelor</td>\n",
       "    </tr>\n",
       "  </tbody>\n",
       "</table>\n",
       "</div>"
      ],
      "text/plain": [
       "  Age  Name Salary          Profile Education\n",
       "0  20  Asep   5000  Content Creator  Bachelor\n",
       "1  30  John   6000  Content Creator  Bachelor\n",
       "2  15   Sam   2000  Content Creator  Bachelor"
      ]
     },
     "execution_count": 19,
     "metadata": {},
     "output_type": "execute_result"
    }
   ],
   "source": [
    "newframe = newframe.T\n",
    "newframe"
   ]
  },
  {
   "cell_type": "markdown",
   "metadata": {},
   "source": [
    "81 - Reindexing Series & DataFrame"
   ]
  },
  {
   "cell_type": "code",
   "execution_count": 46,
   "metadata": {},
   "outputs": [],
   "source": [
    "from pandas import Series"
   ]
  },
  {
   "cell_type": "code",
   "execution_count": 47,
   "metadata": {},
   "outputs": [
    {
     "data": {
      "text/plain": [
       "a    100\n",
       "b    200\n",
       "c    300\n",
       "d    400\n",
       "e    500\n",
       "dtype: int64"
      ]
     },
     "execution_count": 47,
     "metadata": {},
     "output_type": "execute_result"
    }
   ],
   "source": [
    "obj = Series([100, 200, 300, 400, 500], index=['a', 'b', 'c', 'd', 'e'])\n",
    "obj"
   ]
  },
  {
   "cell_type": "code",
   "execution_count": 48,
   "metadata": {},
   "outputs": [],
   "source": [
    "obj = obj.reindex(['c', 'a', 'b', 'e', 'd'])"
   ]
  },
  {
   "cell_type": "code",
   "execution_count": 49,
   "metadata": {},
   "outputs": [
    {
     "data": {
      "text/html": [
       "<div>\n",
       "<style scoped>\n",
       "    .dataframe tbody tr th:only-of-type {\n",
       "        vertical-align: middle;\n",
       "    }\n",
       "\n",
       "    .dataframe tbody tr th {\n",
       "        vertical-align: top;\n",
       "    }\n",
       "\n",
       "    .dataframe thead th {\n",
       "        text-align: right;\n",
       "    }\n",
       "</style>\n",
       "<table border=\"1\" class=\"dataframe\">\n",
       "  <thead>\n",
       "    <tr style=\"text-align: right;\">\n",
       "      <th></th>\n",
       "      <th>Name</th>\n",
       "      <th>Age</th>\n",
       "      <th>Salary</th>\n",
       "    </tr>\n",
       "  </thead>\n",
       "  <tbody>\n",
       "    <tr>\n",
       "      <th>0</th>\n",
       "      <td>Asep</td>\n",
       "      <td>20</td>\n",
       "      <td>4000</td>\n",
       "    </tr>\n",
       "    <tr>\n",
       "      <th>1</th>\n",
       "      <td>Joko</td>\n",
       "      <td>30</td>\n",
       "      <td>3000</td>\n",
       "    </tr>\n",
       "    <tr>\n",
       "      <th>2</th>\n",
       "      <td>Udin</td>\n",
       "      <td>25</td>\n",
       "      <td>6000</td>\n",
       "    </tr>\n",
       "  </tbody>\n",
       "</table>\n",
       "</div>"
      ],
      "text/plain": [
       "   Name  Age  Salary\n",
       "0  Asep   20    4000\n",
       "1  Joko   30    3000\n",
       "2  Udin   25    6000"
      ]
     },
     "execution_count": 49,
     "metadata": {},
     "output_type": "execute_result"
    }
   ],
   "source": [
    "frame = {\n",
    "    \"Name\" : [\"Asep\", \"Joko\", \"Udin\"],\n",
    "    \"Age\"  : [20, 30, 25],\n",
    "    \"Salary\" : [4000,3000,6000],\n",
    "}\n",
    "framer = DataFrame(frame)\n",
    "framer"
   ]
  },
  {
   "cell_type": "code",
   "execution_count": 50,
   "metadata": {},
   "outputs": [
    {
     "data": {
      "text/html": [
       "<div>\n",
       "<style scoped>\n",
       "    .dataframe tbody tr th:only-of-type {\n",
       "        vertical-align: middle;\n",
       "    }\n",
       "\n",
       "    .dataframe tbody tr th {\n",
       "        vertical-align: top;\n",
       "    }\n",
       "\n",
       "    .dataframe thead th {\n",
       "        text-align: right;\n",
       "    }\n",
       "</style>\n",
       "<table border=\"1\" class=\"dataframe\">\n",
       "  <thead>\n",
       "    <tr style=\"text-align: right;\">\n",
       "      <th></th>\n",
       "      <th>Name</th>\n",
       "      <th>Age</th>\n",
       "      <th>Salary</th>\n",
       "    </tr>\n",
       "  </thead>\n",
       "  <tbody>\n",
       "    <tr>\n",
       "      <th>2</th>\n",
       "      <td>Udin</td>\n",
       "      <td>25</td>\n",
       "      <td>6000</td>\n",
       "    </tr>\n",
       "    <tr>\n",
       "      <th>0</th>\n",
       "      <td>Asep</td>\n",
       "      <td>20</td>\n",
       "      <td>4000</td>\n",
       "    </tr>\n",
       "    <tr>\n",
       "      <th>1</th>\n",
       "      <td>Joko</td>\n",
       "      <td>30</td>\n",
       "      <td>3000</td>\n",
       "    </tr>\n",
       "  </tbody>\n",
       "</table>\n",
       "</div>"
      ],
      "text/plain": [
       "   Name  Age  Salary\n",
       "2  Udin   25    6000\n",
       "0  Asep   20    4000\n",
       "1  Joko   30    3000"
      ]
     },
     "execution_count": 50,
     "metadata": {},
     "output_type": "execute_result"
    }
   ],
   "source": [
    "framer = framer.reindex([2,0,1])\n",
    "framer"
   ]
  },
  {
   "cell_type": "code",
   "execution_count": 51,
   "metadata": {},
   "outputs": [
    {
     "data": {
      "text/html": [
       "<div>\n",
       "<style scoped>\n",
       "    .dataframe tbody tr th:only-of-type {\n",
       "        vertical-align: middle;\n",
       "    }\n",
       "\n",
       "    .dataframe tbody tr th {\n",
       "        vertical-align: top;\n",
       "    }\n",
       "\n",
       "    .dataframe thead th {\n",
       "        text-align: right;\n",
       "    }\n",
       "</style>\n",
       "<table border=\"1\" class=\"dataframe\">\n",
       "  <thead>\n",
       "    <tr style=\"text-align: right;\">\n",
       "      <th></th>\n",
       "      <th>Age</th>\n",
       "      <th>Name</th>\n",
       "      <th>Salary</th>\n",
       "    </tr>\n",
       "  </thead>\n",
       "  <tbody>\n",
       "    <tr>\n",
       "      <th>2</th>\n",
       "      <td>25</td>\n",
       "      <td>Udin</td>\n",
       "      <td>6000</td>\n",
       "    </tr>\n",
       "    <tr>\n",
       "      <th>0</th>\n",
       "      <td>20</td>\n",
       "      <td>Asep</td>\n",
       "      <td>4000</td>\n",
       "    </tr>\n",
       "    <tr>\n",
       "      <th>1</th>\n",
       "      <td>30</td>\n",
       "      <td>Joko</td>\n",
       "      <td>3000</td>\n",
       "    </tr>\n",
       "  </tbody>\n",
       "</table>\n",
       "</div>"
      ],
      "text/plain": [
       "   Age  Name  Salary\n",
       "2   25  Udin    6000\n",
       "0   20  Asep    4000\n",
       "1   30  Joko    3000"
      ]
     },
     "execution_count": 51,
     "metadata": {},
     "output_type": "execute_result"
    }
   ],
   "source": [
    "fields = [\"Age\", \"Name\", \"Salary\"]\n",
    "framer = framer.reindex(columns=fields)\n",
    "framer"
   ]
  },
  {
   "cell_type": "markdown",
   "metadata": {},
   "source": [
    "82 - Deleting Row & Collumn"
   ]
  },
  {
   "cell_type": "code",
   "execution_count": 52,
   "metadata": {},
   "outputs": [
    {
     "data": {
      "text/html": [
       "<div>\n",
       "<style scoped>\n",
       "    .dataframe tbody tr th:only-of-type {\n",
       "        vertical-align: middle;\n",
       "    }\n",
       "\n",
       "    .dataframe tbody tr th {\n",
       "        vertical-align: top;\n",
       "    }\n",
       "\n",
       "    .dataframe thead th {\n",
       "        text-align: right;\n",
       "    }\n",
       "</style>\n",
       "<table border=\"1\" class=\"dataframe\">\n",
       "  <thead>\n",
       "    <tr style=\"text-align: right;\">\n",
       "      <th></th>\n",
       "      <th>Age</th>\n",
       "      <th>Name</th>\n",
       "      <th>Salary</th>\n",
       "    </tr>\n",
       "  </thead>\n",
       "  <tbody>\n",
       "    <tr>\n",
       "      <th>2</th>\n",
       "      <td>25</td>\n",
       "      <td>Udin</td>\n",
       "      <td>6000</td>\n",
       "    </tr>\n",
       "    <tr>\n",
       "      <th>0</th>\n",
       "      <td>20</td>\n",
       "      <td>Asep</td>\n",
       "      <td>4000</td>\n",
       "    </tr>\n",
       "  </tbody>\n",
       "</table>\n",
       "</div>"
      ],
      "text/plain": [
       "   Age  Name  Salary\n",
       "2   25  Udin    6000\n",
       "0   20  Asep    4000"
      ]
     },
     "execution_count": 52,
     "metadata": {},
     "output_type": "execute_result"
    }
   ],
   "source": [
    "framer2 = framer.drop([1])\n",
    "framer2"
   ]
  },
  {
   "cell_type": "code",
   "execution_count": 60,
   "metadata": {},
   "outputs": [
    {
     "data": {
      "text/html": [
       "<div>\n",
       "<style scoped>\n",
       "    .dataframe tbody tr th:only-of-type {\n",
       "        vertical-align: middle;\n",
       "    }\n",
       "\n",
       "    .dataframe tbody tr th {\n",
       "        vertical-align: top;\n",
       "    }\n",
       "\n",
       "    .dataframe thead th {\n",
       "        text-align: right;\n",
       "    }\n",
       "</style>\n",
       "<table border=\"1\" class=\"dataframe\">\n",
       "  <thead>\n",
       "    <tr style=\"text-align: right;\">\n",
       "      <th></th>\n",
       "      <th>Age</th>\n",
       "      <th>Name</th>\n",
       "    </tr>\n",
       "  </thead>\n",
       "  <tbody>\n",
       "    <tr>\n",
       "      <th>2</th>\n",
       "      <td>25</td>\n",
       "      <td>Udin</td>\n",
       "    </tr>\n",
       "    <tr>\n",
       "      <th>0</th>\n",
       "      <td>20</td>\n",
       "      <td>Asep</td>\n",
       "    </tr>\n",
       "    <tr>\n",
       "      <th>1</th>\n",
       "      <td>30</td>\n",
       "      <td>Joko</td>\n",
       "    </tr>\n",
       "  </tbody>\n",
       "</table>\n",
       "</div>"
      ],
      "text/plain": [
       "   Age  Name\n",
       "2   25  Udin\n",
       "0   20  Asep\n",
       "1   30  Joko"
      ]
     },
     "execution_count": 60,
     "metadata": {},
     "output_type": "execute_result"
    }
   ],
   "source": [
    "framer3 = framer.drop('Salary', axis=1)\n",
    "framer3"
   ]
  },
  {
   "cell_type": "markdown",
   "metadata": {},
   "source": [
    "83 - Aritmathic Operations on Series and DataFrame"
   ]
  },
  {
   "cell_type": "code",
   "execution_count": 63,
   "metadata": {},
   "outputs": [
    {
     "data": {
      "text/plain": [
       "0    101.0\n",
       "1    202.0\n",
       "2    303.0\n",
       "3    404.0\n",
       "4    505.0\n",
       "5      NaN\n",
       "dtype: float64"
      ]
     },
     "execution_count": 63,
     "metadata": {},
     "output_type": "execute_result"
    }
   ],
   "source": [
    "series1 = Series([1, 2, 3, 4, 5])\n",
    "series2 = Series([100,200,300,400,500, 600])\n",
    "series1 + series2"
   ]
  },
  {
   "cell_type": "code",
   "execution_count": 64,
   "metadata": {},
   "outputs": [
    {
     "data": {
      "text/html": [
       "<div>\n",
       "<style scoped>\n",
       "    .dataframe tbody tr th:only-of-type {\n",
       "        vertical-align: middle;\n",
       "    }\n",
       "\n",
       "    .dataframe tbody tr th {\n",
       "        vertical-align: top;\n",
       "    }\n",
       "\n",
       "    .dataframe thead th {\n",
       "        text-align: right;\n",
       "    }\n",
       "</style>\n",
       "<table border=\"1\" class=\"dataframe\">\n",
       "  <thead>\n",
       "    <tr style=\"text-align: right;\">\n",
       "      <th></th>\n",
       "      <th>speed</th>\n",
       "      <th>temp</th>\n",
       "    </tr>\n",
       "  </thead>\n",
       "  <tbody>\n",
       "    <tr>\n",
       "      <th>0</th>\n",
       "      <td>200</td>\n",
       "      <td>20</td>\n",
       "    </tr>\n",
       "    <tr>\n",
       "      <th>1</th>\n",
       "      <td>300</td>\n",
       "      <td>22</td>\n",
       "    </tr>\n",
       "    <tr>\n",
       "      <th>2</th>\n",
       "      <td>400</td>\n",
       "      <td>21</td>\n",
       "    </tr>\n",
       "  </tbody>\n",
       "</table>\n",
       "</div>"
      ],
      "text/plain": [
       "   speed  temp\n",
       "0    200    20\n",
       "1    300    22\n",
       "2    400    21"
      ]
     },
     "execution_count": 64,
     "metadata": {},
     "output_type": "execute_result"
    }
   ],
   "source": [
    "data1 = {\n",
    "    \"speed\" : [200, 300, 400],\n",
    "    \"temp\"  : [20, 22, 21],\n",
    "}\n",
    "frame1 = DataFrame(data1)\n",
    "frame1"
   ]
  },
  {
   "cell_type": "code",
   "execution_count": 65,
   "metadata": {},
   "outputs": [
    {
     "data": {
      "text/html": [
       "<div>\n",
       "<style scoped>\n",
       "    .dataframe tbody tr th:only-of-type {\n",
       "        vertical-align: middle;\n",
       "    }\n",
       "\n",
       "    .dataframe tbody tr th {\n",
       "        vertical-align: top;\n",
       "    }\n",
       "\n",
       "    .dataframe thead th {\n",
       "        text-align: right;\n",
       "    }\n",
       "</style>\n",
       "<table border=\"1\" class=\"dataframe\">\n",
       "  <thead>\n",
       "    <tr style=\"text-align: right;\">\n",
       "      <th></th>\n",
       "      <th>humidity</th>\n",
       "      <th>speed</th>\n",
       "      <th>temp</th>\n",
       "    </tr>\n",
       "  </thead>\n",
       "  <tbody>\n",
       "    <tr>\n",
       "      <th>0</th>\n",
       "      <td>40</td>\n",
       "      <td>200</td>\n",
       "      <td>20</td>\n",
       "    </tr>\n",
       "    <tr>\n",
       "      <th>1</th>\n",
       "      <td>50</td>\n",
       "      <td>300</td>\n",
       "      <td>22</td>\n",
       "    </tr>\n",
       "    <tr>\n",
       "      <th>2</th>\n",
       "      <td>60</td>\n",
       "      <td>400</td>\n",
       "      <td>21</td>\n",
       "    </tr>\n",
       "  </tbody>\n",
       "</table>\n",
       "</div>"
      ],
      "text/plain": [
       "   humidity  speed  temp\n",
       "0        40    200    20\n",
       "1        50    300    22\n",
       "2        60    400    21"
      ]
     },
     "execution_count": 65,
     "metadata": {},
     "output_type": "execute_result"
    }
   ],
   "source": [
    "data2 = {\n",
    "    \"humidity\" : [40, 50, 60],\n",
    "    \"speed\" : [200, 300, 400],\n",
    "    \"temp\"  : [20, 22, 21],\n",
    "}\n",
    "frame2 = DataFrame(data2)\n",
    "frame2"
   ]
  },
  {
   "cell_type": "code",
   "execution_count": 66,
   "metadata": {},
   "outputs": [
    {
     "data": {
      "text/html": [
       "<div>\n",
       "<style scoped>\n",
       "    .dataframe tbody tr th:only-of-type {\n",
       "        vertical-align: middle;\n",
       "    }\n",
       "\n",
       "    .dataframe tbody tr th {\n",
       "        vertical-align: top;\n",
       "    }\n",
       "\n",
       "    .dataframe thead th {\n",
       "        text-align: right;\n",
       "    }\n",
       "</style>\n",
       "<table border=\"1\" class=\"dataframe\">\n",
       "  <thead>\n",
       "    <tr style=\"text-align: right;\">\n",
       "      <th></th>\n",
       "      <th>humidity</th>\n",
       "      <th>speed</th>\n",
       "      <th>temp</th>\n",
       "    </tr>\n",
       "  </thead>\n",
       "  <tbody>\n",
       "    <tr>\n",
       "      <th>0</th>\n",
       "      <td>NaN</td>\n",
       "      <td>400</td>\n",
       "      <td>40</td>\n",
       "    </tr>\n",
       "    <tr>\n",
       "      <th>1</th>\n",
       "      <td>NaN</td>\n",
       "      <td>600</td>\n",
       "      <td>44</td>\n",
       "    </tr>\n",
       "    <tr>\n",
       "      <th>2</th>\n",
       "      <td>NaN</td>\n",
       "      <td>800</td>\n",
       "      <td>42</td>\n",
       "    </tr>\n",
       "  </tbody>\n",
       "</table>\n",
       "</div>"
      ],
      "text/plain": [
       "   humidity  speed  temp\n",
       "0       NaN    400    40\n",
       "1       NaN    600    44\n",
       "2       NaN    800    42"
      ]
     },
     "execution_count": 66,
     "metadata": {},
     "output_type": "execute_result"
    }
   ],
   "source": [
    "frame1 + frame2"
   ]
  },
  {
   "cell_type": "markdown",
   "metadata": {},
   "source": [
    "84 - Aritmathic DataFrame to Series"
   ]
  },
  {
   "cell_type": "code",
   "execution_count": 68,
   "metadata": {},
   "outputs": [
    {
     "data": {
      "text/plain": [
       "humidity    100\n",
       "speed       200\n",
       "temp        300\n",
       "dtype: int64"
      ]
     },
     "execution_count": 68,
     "metadata": {},
     "output_type": "execute_result"
    }
   ],
   "source": [
    "series3 = Series([100,200,300], index=['humidity', 'speed', 'temp'])\n",
    "series3"
   ]
  },
  {
   "cell_type": "code",
   "execution_count": 69,
   "metadata": {},
   "outputs": [
    {
     "data": {
      "text/html": [
       "<div>\n",
       "<style scoped>\n",
       "    .dataframe tbody tr th:only-of-type {\n",
       "        vertical-align: middle;\n",
       "    }\n",
       "\n",
       "    .dataframe tbody tr th {\n",
       "        vertical-align: top;\n",
       "    }\n",
       "\n",
       "    .dataframe thead th {\n",
       "        text-align: right;\n",
       "    }\n",
       "</style>\n",
       "<table border=\"1\" class=\"dataframe\">\n",
       "  <thead>\n",
       "    <tr style=\"text-align: right;\">\n",
       "      <th></th>\n",
       "      <th>humidity</th>\n",
       "      <th>speed</th>\n",
       "      <th>temp</th>\n",
       "    </tr>\n",
       "  </thead>\n",
       "  <tbody>\n",
       "    <tr>\n",
       "      <th>0</th>\n",
       "      <td>40</td>\n",
       "      <td>200</td>\n",
       "      <td>20</td>\n",
       "    </tr>\n",
       "    <tr>\n",
       "      <th>1</th>\n",
       "      <td>50</td>\n",
       "      <td>300</td>\n",
       "      <td>22</td>\n",
       "    </tr>\n",
       "    <tr>\n",
       "      <th>2</th>\n",
       "      <td>60</td>\n",
       "      <td>400</td>\n",
       "      <td>21</td>\n",
       "    </tr>\n",
       "  </tbody>\n",
       "</table>\n",
       "</div>"
      ],
      "text/plain": [
       "   humidity  speed  temp\n",
       "0        40    200    20\n",
       "1        50    300    22\n",
       "2        60    400    21"
      ]
     },
     "execution_count": 69,
     "metadata": {},
     "output_type": "execute_result"
    }
   ],
   "source": [
    "data2 = {\n",
    "    \"humidity\" : [40, 50, 60],\n",
    "    \"speed\" : [200, 300, 400],\n",
    "    \"temp\"  : [20, 22, 21],\n",
    "}\n",
    "frame2 = DataFrame(data2)\n",
    "frame2"
   ]
  },
  {
   "cell_type": "code",
   "execution_count": 71,
   "metadata": {},
   "outputs": [
    {
     "data": {
      "text/html": [
       "<div>\n",
       "<style scoped>\n",
       "    .dataframe tbody tr th:only-of-type {\n",
       "        vertical-align: middle;\n",
       "    }\n",
       "\n",
       "    .dataframe tbody tr th {\n",
       "        vertical-align: top;\n",
       "    }\n",
       "\n",
       "    .dataframe thead th {\n",
       "        text-align: right;\n",
       "    }\n",
       "</style>\n",
       "<table border=\"1\" class=\"dataframe\">\n",
       "  <thead>\n",
       "    <tr style=\"text-align: right;\">\n",
       "      <th></th>\n",
       "      <th>humidity</th>\n",
       "      <th>speed</th>\n",
       "      <th>temp</th>\n",
       "    </tr>\n",
       "  </thead>\n",
       "  <tbody>\n",
       "    <tr>\n",
       "      <th>0</th>\n",
       "      <td>-60</td>\n",
       "      <td>0</td>\n",
       "      <td>-280</td>\n",
       "    </tr>\n",
       "    <tr>\n",
       "      <th>1</th>\n",
       "      <td>-50</td>\n",
       "      <td>100</td>\n",
       "      <td>-278</td>\n",
       "    </tr>\n",
       "    <tr>\n",
       "      <th>2</th>\n",
       "      <td>-40</td>\n",
       "      <td>200</td>\n",
       "      <td>-279</td>\n",
       "    </tr>\n",
       "  </tbody>\n",
       "</table>\n",
       "</div>"
      ],
      "text/plain": [
       "   humidity  speed  temp\n",
       "0       -60      0  -280\n",
       "1       -50    100  -278\n",
       "2       -40    200  -279"
      ]
     },
     "execution_count": 71,
     "metadata": {},
     "output_type": "execute_result"
    }
   ],
   "source": [
    "frame2 - series3"
   ]
  },
  {
   "cell_type": "markdown",
   "metadata": {},
   "source": [
    "85 - Sorting Series and Dataframe"
   ]
  },
  {
   "cell_type": "code",
   "execution_count": 72,
   "metadata": {},
   "outputs": [
    {
     "data": {
      "text/plain": [
       "6    1\n",
       "4    4\n",
       "2    6\n",
       "3    5\n",
       "dtype: int64"
      ]
     },
     "execution_count": 72,
     "metadata": {},
     "output_type": "execute_result"
    }
   ],
   "source": [
    "ser = Series([1, 4, 6, 5], index=[6,4,2,3])\n",
    "ser"
   ]
  },
  {
   "cell_type": "code",
   "execution_count": 75,
   "metadata": {},
   "outputs": [
    {
     "data": {
      "text/plain": [
       "2    6\n",
       "3    5\n",
       "4    4\n",
       "6    1\n",
       "dtype: int64"
      ]
     },
     "execution_count": 75,
     "metadata": {},
     "output_type": "execute_result"
    }
   ],
   "source": [
    "ser.sort_index()"
   ]
  },
  {
   "cell_type": "code",
   "execution_count": 78,
   "metadata": {},
   "outputs": [
    {
     "data": {
      "text/html": [
       "<div>\n",
       "<style scoped>\n",
       "    .dataframe tbody tr th:only-of-type {\n",
       "        vertical-align: middle;\n",
       "    }\n",
       "\n",
       "    .dataframe tbody tr th {\n",
       "        vertical-align: top;\n",
       "    }\n",
       "\n",
       "    .dataframe thead th {\n",
       "        text-align: right;\n",
       "    }\n",
       "</style>\n",
       "<table border=\"1\" class=\"dataframe\">\n",
       "  <thead>\n",
       "    <tr style=\"text-align: right;\">\n",
       "      <th></th>\n",
       "      <th>humidity</th>\n",
       "      <th>speed</th>\n",
       "      <th>temp</th>\n",
       "    </tr>\n",
       "  </thead>\n",
       "  <tbody>\n",
       "    <tr>\n",
       "      <th>2</th>\n",
       "      <td>60</td>\n",
       "      <td>400</td>\n",
       "      <td>21</td>\n",
       "    </tr>\n",
       "    <tr>\n",
       "      <th>0</th>\n",
       "      <td>40</td>\n",
       "      <td>200</td>\n",
       "      <td>20</td>\n",
       "    </tr>\n",
       "    <tr>\n",
       "      <th>1</th>\n",
       "      <td>50</td>\n",
       "      <td>300</td>\n",
       "      <td>22</td>\n",
       "    </tr>\n",
       "  </tbody>\n",
       "</table>\n",
       "</div>"
      ],
      "text/plain": [
       "   humidity  speed  temp\n",
       "2        60    400    21\n",
       "0        40    200    20\n",
       "1        50    300    22"
      ]
     },
     "execution_count": 78,
     "metadata": {},
     "output_type": "execute_result"
    }
   ],
   "source": [
    "data2 = {\n",
    "    \"humidity\" : [40, 50, 60],\n",
    "    \"speed\" : [200, 300, 400],\n",
    "    \"temp\"  : [20, 22, 21],\n",
    "}\n",
    "frame2 = DataFrame(data2)\n",
    "frame2 = frame2.reindex([2,0,1])\n",
    "frame2"
   ]
  },
  {
   "cell_type": "code",
   "execution_count": 83,
   "metadata": {},
   "outputs": [
    {
     "data": {
      "text/html": [
       "<div>\n",
       "<style scoped>\n",
       "    .dataframe tbody tr th:only-of-type {\n",
       "        vertical-align: middle;\n",
       "    }\n",
       "\n",
       "    .dataframe tbody tr th {\n",
       "        vertical-align: top;\n",
       "    }\n",
       "\n",
       "    .dataframe thead th {\n",
       "        text-align: right;\n",
       "    }\n",
       "</style>\n",
       "<table border=\"1\" class=\"dataframe\">\n",
       "  <thead>\n",
       "    <tr style=\"text-align: right;\">\n",
       "      <th></th>\n",
       "      <th>humidity</th>\n",
       "      <th>speed</th>\n",
       "      <th>temp</th>\n",
       "    </tr>\n",
       "  </thead>\n",
       "  <tbody>\n",
       "    <tr>\n",
       "      <th>0</th>\n",
       "      <td>40</td>\n",
       "      <td>200</td>\n",
       "      <td>20</td>\n",
       "    </tr>\n",
       "    <tr>\n",
       "      <th>1</th>\n",
       "      <td>50</td>\n",
       "      <td>300</td>\n",
       "      <td>22</td>\n",
       "    </tr>\n",
       "    <tr>\n",
       "      <th>2</th>\n",
       "      <td>60</td>\n",
       "      <td>400</td>\n",
       "      <td>21</td>\n",
       "    </tr>\n",
       "  </tbody>\n",
       "</table>\n",
       "</div>"
      ],
      "text/plain": [
       "   humidity  speed  temp\n",
       "0        40    200    20\n",
       "1        50    300    22\n",
       "2        60    400    21"
      ]
     },
     "execution_count": 83,
     "metadata": {},
     "output_type": "execute_result"
    }
   ],
   "source": [
    "frame2.sort_index(axis=0, ascending=True)"
   ]
  },
  {
   "cell_type": "markdown",
   "metadata": {},
   "source": [
    "86 - Sorting According to Value"
   ]
  },
  {
   "cell_type": "code",
   "execution_count": 84,
   "metadata": {},
   "outputs": [
    {
     "data": {
      "text/plain": [
       "0    1000\n",
       "1    5000\n",
       "2    2400\n",
       "3    6000\n",
       "dtype: int64"
      ]
     },
     "execution_count": 84,
     "metadata": {},
     "output_type": "execute_result"
    }
   ],
   "source": [
    "ser = Series([1000, 5000, 2400, 6000])\n",
    "ser"
   ]
  },
  {
   "cell_type": "code",
   "execution_count": 85,
   "metadata": {},
   "outputs": [
    {
     "data": {
      "text/plain": [
       "0    1000\n",
       "2    2400\n",
       "1    5000\n",
       "3    6000\n",
       "dtype: int64"
      ]
     },
     "execution_count": 85,
     "metadata": {},
     "output_type": "execute_result"
    }
   ],
   "source": [
    "ser.sort_values()"
   ]
  },
  {
   "cell_type": "code",
   "execution_count": 89,
   "metadata": {},
   "outputs": [
    {
     "data": {
      "text/html": [
       "<div>\n",
       "<style scoped>\n",
       "    .dataframe tbody tr th:only-of-type {\n",
       "        vertical-align: middle;\n",
       "    }\n",
       "\n",
       "    .dataframe tbody tr th {\n",
       "        vertical-align: top;\n",
       "    }\n",
       "\n",
       "    .dataframe thead th {\n",
       "        text-align: right;\n",
       "    }\n",
       "</style>\n",
       "<table border=\"1\" class=\"dataframe\">\n",
       "  <thead>\n",
       "    <tr style=\"text-align: right;\">\n",
       "      <th></th>\n",
       "      <th>humidity</th>\n",
       "      <th>speed</th>\n",
       "      <th>temp</th>\n",
       "    </tr>\n",
       "  </thead>\n",
       "  <tbody>\n",
       "    <tr>\n",
       "      <th>0</th>\n",
       "      <td>40</td>\n",
       "      <td>200</td>\n",
       "      <td>20</td>\n",
       "    </tr>\n",
       "    <tr>\n",
       "      <th>1</th>\n",
       "      <td>50</td>\n",
       "      <td>300</td>\n",
       "      <td>22</td>\n",
       "    </tr>\n",
       "    <tr>\n",
       "      <th>2</th>\n",
       "      <td>60</td>\n",
       "      <td>400</td>\n",
       "      <td>21</td>\n",
       "    </tr>\n",
       "  </tbody>\n",
       "</table>\n",
       "</div>"
      ],
      "text/plain": [
       "   humidity  speed  temp\n",
       "0        40    200    20\n",
       "1        50    300    22\n",
       "2        60    400    21"
      ]
     },
     "execution_count": 89,
     "metadata": {},
     "output_type": "execute_result"
    }
   ],
   "source": [
    "frame2.sort_values(by='speed')"
   ]
  },
  {
   "cell_type": "markdown",
   "metadata": {},
   "source": [
    "87 - Handling Values"
   ]
  },
  {
   "cell_type": "code",
   "execution_count": 93,
   "metadata": {},
   "outputs": [
    {
     "data": {
      "text/plain": [
       "a    100\n",
       "b    200\n",
       "d    300\n",
       "d    400\n",
       "dtype: int64"
      ]
     },
     "execution_count": 93,
     "metadata": {},
     "output_type": "execute_result"
    }
   ],
   "source": [
    "series = Series([100,200,300,400], index=[\"a\", \"b\", \"d\", \"d\"])\n",
    "series"
   ]
  },
  {
   "cell_type": "code",
   "execution_count": 99,
   "metadata": {},
   "outputs": [
    {
     "data": {
      "text/plain": [
       "False"
      ]
     },
     "execution_count": 99,
     "metadata": {},
     "output_type": "execute_result"
    }
   ],
   "source": [
    "series.index.is_unique"
   ]
  },
  {
   "cell_type": "markdown",
   "metadata": {},
   "source": [
    "88 - Calculate SUM MAX MIN"
   ]
  },
  {
   "cell_type": "code",
   "execution_count": 104,
   "metadata": {},
   "outputs": [
    {
     "data": {
      "text/plain": [
       "2    481\n",
       "0    260\n",
       "1    372\n",
       "dtype: int64"
      ]
     },
     "execution_count": 104,
     "metadata": {},
     "output_type": "execute_result"
    }
   ],
   "source": [
    "frame2.sum(axis=1)"
   ]
  },
  {
   "cell_type": "code",
   "execution_count": 106,
   "metadata": {},
   "outputs": [
    {
     "data": {
      "text/plain": [
       "humidity    2\n",
       "speed       2\n",
       "temp        1\n",
       "dtype: int64"
      ]
     },
     "execution_count": 106,
     "metadata": {},
     "output_type": "execute_result"
    }
   ],
   "source": [
    "frame2.idxmax()"
   ]
  },
  {
   "cell_type": "code",
   "execution_count": 108,
   "metadata": {},
   "outputs": [
    {
     "data": {
      "text/plain": [
       "humidity    0\n",
       "speed       0\n",
       "temp        0\n",
       "dtype: int64"
      ]
     },
     "execution_count": 108,
     "metadata": {},
     "output_type": "execute_result"
    }
   ],
   "source": [
    "frame2.idxmin()"
   ]
  },
  {
   "cell_type": "markdown",
   "metadata": {},
   "source": [
    "89 - Dropping NaN Values"
   ]
  },
  {
   "cell_type": "code",
   "execution_count": 109,
   "metadata": {},
   "outputs": [],
   "source": [
    "import numpy as np"
   ]
  },
  {
   "cell_type": "code",
   "execution_count": 110,
   "metadata": {},
   "outputs": [
    {
     "data": {
      "text/plain": [
       "a    1.0\n",
       "b    2.0\n",
       "c    3.0\n",
       "d    4.0\n",
       "e    NaN\n",
       "dtype: float64"
      ]
     },
     "execution_count": 110,
     "metadata": {},
     "output_type": "execute_result"
    }
   ],
   "source": [
    "ser = Series([1,2,3,4, np.nan], index=[\"a\", \"b\", \"c\", \"d\", \"e\"])\n",
    "ser"
   ]
  },
  {
   "cell_type": "code",
   "execution_count": 111,
   "metadata": {},
   "outputs": [
    {
     "data": {
      "text/plain": [
       "a    1.0\n",
       "b    2.0\n",
       "c    3.0\n",
       "d    4.0\n",
       "dtype: float64"
      ]
     },
     "execution_count": 111,
     "metadata": {},
     "output_type": "execute_result"
    }
   ],
   "source": [
    "ser.dropna()"
   ]
  },
  {
   "cell_type": "code",
   "execution_count": 112,
   "metadata": {},
   "outputs": [
    {
     "data": {
      "text/html": [
       "<div>\n",
       "<style scoped>\n",
       "    .dataframe tbody tr th:only-of-type {\n",
       "        vertical-align: middle;\n",
       "    }\n",
       "\n",
       "    .dataframe tbody tr th {\n",
       "        vertical-align: top;\n",
       "    }\n",
       "\n",
       "    .dataframe thead th {\n",
       "        text-align: right;\n",
       "    }\n",
       "</style>\n",
       "<table border=\"1\" class=\"dataframe\">\n",
       "  <thead>\n",
       "    <tr style=\"text-align: right;\">\n",
       "      <th></th>\n",
       "      <th>humidity</th>\n",
       "      <th>speed</th>\n",
       "      <th>temp</th>\n",
       "    </tr>\n",
       "  </thead>\n",
       "  <tbody>\n",
       "    <tr>\n",
       "      <th>2</th>\n",
       "      <td>60.0</td>\n",
       "      <td>400</td>\n",
       "      <td>21.0</td>\n",
       "    </tr>\n",
       "    <tr>\n",
       "      <th>0</th>\n",
       "      <td>40.0</td>\n",
       "      <td>200</td>\n",
       "      <td>20.0</td>\n",
       "    </tr>\n",
       "    <tr>\n",
       "      <th>1</th>\n",
       "      <td>NaN</td>\n",
       "      <td>300</td>\n",
       "      <td>NaN</td>\n",
       "    </tr>\n",
       "  </tbody>\n",
       "</table>\n",
       "</div>"
      ],
      "text/plain": [
       "   humidity  speed  temp\n",
       "2      60.0    400  21.0\n",
       "0      40.0    200  20.0\n",
       "1       NaN    300   NaN"
      ]
     },
     "execution_count": 112,
     "metadata": {},
     "output_type": "execute_result"
    }
   ],
   "source": [
    "data2 = {\n",
    "    \"humidity\" : [40, np.nan, 60],\n",
    "    \"speed\" : [200, 300, 400],\n",
    "    \"temp\"  : [20, np.nan, 21],\n",
    "}\n",
    "frame2 = DataFrame(data2)\n",
    "frame2 = frame2.reindex([2,0,1])\n",
    "frame2"
   ]
  },
  {
   "cell_type": "code",
   "execution_count": 115,
   "metadata": {},
   "outputs": [
    {
     "data": {
      "text/html": [
       "<div>\n",
       "<style scoped>\n",
       "    .dataframe tbody tr th:only-of-type {\n",
       "        vertical-align: middle;\n",
       "    }\n",
       "\n",
       "    .dataframe tbody tr th {\n",
       "        vertical-align: top;\n",
       "    }\n",
       "\n",
       "    .dataframe thead th {\n",
       "        text-align: right;\n",
       "    }\n",
       "</style>\n",
       "<table border=\"1\" class=\"dataframe\">\n",
       "  <thead>\n",
       "    <tr style=\"text-align: right;\">\n",
       "      <th></th>\n",
       "      <th>humidity</th>\n",
       "      <th>speed</th>\n",
       "      <th>temp</th>\n",
       "    </tr>\n",
       "  </thead>\n",
       "  <tbody>\n",
       "    <tr>\n",
       "      <th>2</th>\n",
       "      <td>60.0</td>\n",
       "      <td>400</td>\n",
       "      <td>21.0</td>\n",
       "    </tr>\n",
       "    <tr>\n",
       "      <th>0</th>\n",
       "      <td>40.0</td>\n",
       "      <td>200</td>\n",
       "      <td>20.0</td>\n",
       "    </tr>\n",
       "  </tbody>\n",
       "</table>\n",
       "</div>"
      ],
      "text/plain": [
       "   humidity  speed  temp\n",
       "2      60.0    400  21.0\n",
       "0      40.0    200  20.0"
      ]
     },
     "execution_count": 115,
     "metadata": {},
     "output_type": "execute_result"
    }
   ],
   "source": [
    "frame2.dropna()"
   ]
  },
  {
   "cell_type": "code",
   "execution_count": 117,
   "metadata": {},
   "outputs": [
    {
     "data": {
      "text/html": [
       "<div>\n",
       "<style scoped>\n",
       "    .dataframe tbody tr th:only-of-type {\n",
       "        vertical-align: middle;\n",
       "    }\n",
       "\n",
       "    .dataframe tbody tr th {\n",
       "        vertical-align: top;\n",
       "    }\n",
       "\n",
       "    .dataframe thead th {\n",
       "        text-align: right;\n",
       "    }\n",
       "</style>\n",
       "<table border=\"1\" class=\"dataframe\">\n",
       "  <thead>\n",
       "    <tr style=\"text-align: right;\">\n",
       "      <th></th>\n",
       "      <th>humidity</th>\n",
       "      <th>speed</th>\n",
       "      <th>temp</th>\n",
       "    </tr>\n",
       "  </thead>\n",
       "  <tbody>\n",
       "    <tr>\n",
       "      <th>2</th>\n",
       "      <td>60.0</td>\n",
       "      <td>400</td>\n",
       "      <td>21.0</td>\n",
       "    </tr>\n",
       "    <tr>\n",
       "      <th>0</th>\n",
       "      <td>40.0</td>\n",
       "      <td>200</td>\n",
       "      <td>20.0</td>\n",
       "    </tr>\n",
       "    <tr>\n",
       "      <th>1</th>\n",
       "      <td>100.0</td>\n",
       "      <td>300</td>\n",
       "      <td>100.0</td>\n",
       "    </tr>\n",
       "  </tbody>\n",
       "</table>\n",
       "</div>"
      ],
      "text/plain": [
       "   humidity  speed   temp\n",
       "2      60.0    400   21.0\n",
       "0      40.0    200   20.0\n",
       "1     100.0    300  100.0"
      ]
     },
     "execution_count": 117,
     "metadata": {},
     "output_type": "execute_result"
    }
   ],
   "source": [
    "frame2.fillna(100)"
   ]
  },
  {
   "cell_type": "markdown",
   "metadata": {},
   "source": [
    "90 - Loading Data from File"
   ]
  },
  {
   "cell_type": "code",
   "execution_count": 118,
   "metadata": {},
   "outputs": [],
   "source": [
    "import pandas as pd"
   ]
  },
  {
   "cell_type": "code",
   "execution_count": 119,
   "metadata": {},
   "outputs": [
    {
     "data": {
      "text/html": [
       "<div>\n",
       "<style scoped>\n",
       "    .dataframe tbody tr th:only-of-type {\n",
       "        vertical-align: middle;\n",
       "    }\n",
       "\n",
       "    .dataframe tbody tr th {\n",
       "        vertical-align: top;\n",
       "    }\n",
       "\n",
       "    .dataframe thead th {\n",
       "        text-align: right;\n",
       "    }\n",
       "</style>\n",
       "<table border=\"1\" class=\"dataframe\">\n",
       "  <thead>\n",
       "    <tr style=\"text-align: right;\">\n",
       "      <th></th>\n",
       "      <th>kode_barang</th>\n",
       "      <th>sektor</th>\n",
       "      <th>nama_barang</th>\n",
       "      <th>tipe</th>\n",
       "      <th>nama_tipe</th>\n",
       "      <th>kode_lini</th>\n",
       "      <th>lini</th>\n",
       "      <th>kemasan</th>\n",
       "    </tr>\n",
       "  </thead>\n",
       "  <tbody>\n",
       "    <tr>\n",
       "      <th>0</th>\n",
       "      <td>BRG0001</td>\n",
       "      <td>P</td>\n",
       "      <td>ACYCLOVIR DUS</td>\n",
       "      <td>ZPJ1</td>\n",
       "      <td>Produk jadi</td>\n",
       "      <td>206</td>\n",
       "      <td>OGB &amp; PH</td>\n",
       "      <td>DUS</td>\n",
       "    </tr>\n",
       "    <tr>\n",
       "      <th>1</th>\n",
       "      <td>BRG0002</td>\n",
       "      <td>P</td>\n",
       "      <td>ALERGINE TABLET SALUT</td>\n",
       "      <td>ZPJ1</td>\n",
       "      <td>Produk jadi</td>\n",
       "      <td>203</td>\n",
       "      <td>ETIKAL</td>\n",
       "      <td>DUS</td>\n",
       "    </tr>\n",
       "    <tr>\n",
       "      <th>2</th>\n",
       "      <td>BRG0003</td>\n",
       "      <td>P</td>\n",
       "      <td>AMPICILLIN</td>\n",
       "      <td>ZPJ1</td>\n",
       "      <td>Produk jadi</td>\n",
       "      <td>210</td>\n",
       "      <td>MARCKS</td>\n",
       "      <td>BOTOL</td>\n",
       "    </tr>\n",
       "    <tr>\n",
       "      <th>3</th>\n",
       "      <td>BRG0004</td>\n",
       "      <td>P</td>\n",
       "      <td>TRAMADOL KAPSUL 50 MG</td>\n",
       "      <td>ZPJ1</td>\n",
       "      <td>Produk jadi</td>\n",
       "      <td>201</td>\n",
       "      <td>VNS</td>\n",
       "      <td>KAPSUL</td>\n",
       "    </tr>\n",
       "    <tr>\n",
       "      <th>4</th>\n",
       "      <td>BRG0005</td>\n",
       "      <td>P</td>\n",
       "      <td>KLORPROMAZINA TABLET SALUT SELAPUT 100 MG</td>\n",
       "      <td>ZPJ1</td>\n",
       "      <td>Produk jadi</td>\n",
       "      <td>203</td>\n",
       "      <td>SLCYL</td>\n",
       "      <td>TABLET</td>\n",
       "    </tr>\n",
       "    <tr>\n",
       "      <th>5</th>\n",
       "      <td>BRG0006</td>\n",
       "      <td>P</td>\n",
       "      <td>KETOCONAZOLE TABLET 200 MG</td>\n",
       "      <td>ZPJ1</td>\n",
       "      <td>Produk jadi</td>\n",
       "      <td>205</td>\n",
       "      <td>OGB &amp; PH</td>\n",
       "      <td>TABLET</td>\n",
       "    </tr>\n",
       "    <tr>\n",
       "      <th>6</th>\n",
       "      <td>BRG0007</td>\n",
       "      <td>P</td>\n",
       "      <td>ERGOTAMINE COFFEINE</td>\n",
       "      <td>ZPJ1</td>\n",
       "      <td>Produk jadi</td>\n",
       "      <td>206</td>\n",
       "      <td>ETIKAL</td>\n",
       "      <td>BOTOL</td>\n",
       "    </tr>\n",
       "    <tr>\n",
       "      <th>7</th>\n",
       "      <td>BRG0008</td>\n",
       "      <td>P</td>\n",
       "      <td>TETRACYCLINE KAPSUL 250 MG</td>\n",
       "      <td>ZPJ1</td>\n",
       "      <td>Produk jadi</td>\n",
       "      <td>204</td>\n",
       "      <td>MARCKS</td>\n",
       "      <td>KAPSUL</td>\n",
       "    </tr>\n",
       "    <tr>\n",
       "      <th>8</th>\n",
       "      <td>BRG0009</td>\n",
       "      <td>P</td>\n",
       "      <td>AMBROXOL HC</td>\n",
       "      <td>ZPJ1</td>\n",
       "      <td>Produk jadi</td>\n",
       "      <td>207</td>\n",
       "      <td>VNS</td>\n",
       "      <td>BOTOL</td>\n",
       "    </tr>\n",
       "    <tr>\n",
       "      <th>9</th>\n",
       "      <td>BRG0010</td>\n",
       "      <td>P</td>\n",
       "      <td>PARACETAMOL</td>\n",
       "      <td>ZPJ1</td>\n",
       "      <td>Produk jadi</td>\n",
       "      <td>208</td>\n",
       "      <td>SLCYL</td>\n",
       "      <td>BOTOL</td>\n",
       "    </tr>\n",
       "  </tbody>\n",
       "</table>\n",
       "</div>"
      ],
      "text/plain": [
       "  kode_barang sektor                                nama_barang  tipe  \\\n",
       "0     BRG0001      P                              ACYCLOVIR DUS  ZPJ1   \n",
       "1     BRG0002      P                      ALERGINE TABLET SALUT  ZPJ1   \n",
       "2     BRG0003      P                                 AMPICILLIN  ZPJ1   \n",
       "3     BRG0004      P                      TRAMADOL KAPSUL 50 MG  ZPJ1   \n",
       "4     BRG0005      P  KLORPROMAZINA TABLET SALUT SELAPUT 100 MG  ZPJ1   \n",
       "5     BRG0006      P                 KETOCONAZOLE TABLET 200 MG  ZPJ1   \n",
       "6     BRG0007      P                        ERGOTAMINE COFFEINE  ZPJ1   \n",
       "7     BRG0008      P                 TETRACYCLINE KAPSUL 250 MG  ZPJ1   \n",
       "8     BRG0009      P                                AMBROXOL HC  ZPJ1   \n",
       "9     BRG0010      P                                PARACETAMOL  ZPJ1   \n",
       "\n",
       "     nama_tipe  kode_lini      lini kemasan  \n",
       "0  Produk jadi        206  OGB & PH     DUS  \n",
       "1  Produk jadi        203    ETIKAL     DUS  \n",
       "2  Produk jadi        210    MARCKS   BOTOL  \n",
       "3  Produk jadi        201       VNS  KAPSUL  \n",
       "4  Produk jadi        203     SLCYL  TABLET  \n",
       "5  Produk jadi        205  OGB & PH  TABLET  \n",
       "6  Produk jadi        206    ETIKAL   BOTOL  \n",
       "7  Produk jadi        204    MARCKS  KAPSUL  \n",
       "8  Produk jadi        207       VNS   BOTOL  \n",
       "9  Produk jadi        208     SLCYL   BOTOL  "
      ]
     },
     "execution_count": 119,
     "metadata": {},
     "output_type": "execute_result"
    }
   ],
   "source": [
    "df = pd.read_csv(\"products_data.csv\")\n",
    "df"
   ]
  },
  {
   "cell_type": "markdown",
   "metadata": {},
   "source": [
    "91 - Analyzing Data"
   ]
  },
  {
   "cell_type": "code",
   "execution_count": 130,
   "metadata": {},
   "outputs": [
    {
     "data": {
      "text/html": [
       "<div>\n",
       "<style scoped>\n",
       "    .dataframe tbody tr th:only-of-type {\n",
       "        vertical-align: middle;\n",
       "    }\n",
       "\n",
       "    .dataframe tbody tr th {\n",
       "        vertical-align: top;\n",
       "    }\n",
       "\n",
       "    .dataframe thead th {\n",
       "        text-align: right;\n",
       "    }\n",
       "</style>\n",
       "<table border=\"1\" class=\"dataframe\">\n",
       "  <thead>\n",
       "    <tr style=\"text-align: right;\">\n",
       "      <th></th>\n",
       "      <th>kode_barang</th>\n",
       "      <th>sektor</th>\n",
       "      <th>nama_barang</th>\n",
       "      <th>tipe</th>\n",
       "      <th>nama_tipe</th>\n",
       "      <th>kode_lini</th>\n",
       "      <th>lini</th>\n",
       "      <th>kemasan</th>\n",
       "    </tr>\n",
       "  </thead>\n",
       "  <tbody>\n",
       "    <tr>\n",
       "      <th>0</th>\n",
       "      <td>BRG0001</td>\n",
       "      <td>P</td>\n",
       "      <td>ACYCLOVIR DUS</td>\n",
       "      <td>ZPJ1</td>\n",
       "      <td>Produk jadi</td>\n",
       "      <td>206</td>\n",
       "      <td>OGB &amp; PH</td>\n",
       "      <td>DUS</td>\n",
       "    </tr>\n",
       "    <tr>\n",
       "      <th>2</th>\n",
       "      <td>BRG0003</td>\n",
       "      <td>P</td>\n",
       "      <td>AMPICILLIN</td>\n",
       "      <td>ZPJ1</td>\n",
       "      <td>Produk jadi</td>\n",
       "      <td>210</td>\n",
       "      <td>MARCKS</td>\n",
       "      <td>BOTOL</td>\n",
       "    </tr>\n",
       "    <tr>\n",
       "      <th>3</th>\n",
       "      <td>BRG0004</td>\n",
       "      <td>P</td>\n",
       "      <td>TRAMADOL KAPSUL 50 MG</td>\n",
       "      <td>ZPJ1</td>\n",
       "      <td>Produk jadi</td>\n",
       "      <td>201</td>\n",
       "      <td>VNS</td>\n",
       "      <td>KAPSUL</td>\n",
       "    </tr>\n",
       "    <tr>\n",
       "      <th>4</th>\n",
       "      <td>BRG0005</td>\n",
       "      <td>P</td>\n",
       "      <td>KLORPROMAZINA TABLET SALUT SELAPUT 100 MG</td>\n",
       "      <td>ZPJ1</td>\n",
       "      <td>Produk jadi</td>\n",
       "      <td>203</td>\n",
       "      <td>SLCYL</td>\n",
       "      <td>TABLET</td>\n",
       "    </tr>\n",
       "    <tr>\n",
       "      <th>5</th>\n",
       "      <td>BRG0006</td>\n",
       "      <td>P</td>\n",
       "      <td>KETOCONAZOLE TABLET 200 MG</td>\n",
       "      <td>ZPJ1</td>\n",
       "      <td>Produk jadi</td>\n",
       "      <td>205</td>\n",
       "      <td>OGB &amp; PH</td>\n",
       "      <td>TABLET</td>\n",
       "    </tr>\n",
       "    <tr>\n",
       "      <th>6</th>\n",
       "      <td>BRG0007</td>\n",
       "      <td>P</td>\n",
       "      <td>ERGOTAMINE COFFEINE</td>\n",
       "      <td>ZPJ1</td>\n",
       "      <td>Produk jadi</td>\n",
       "      <td>206</td>\n",
       "      <td>ETIKAL</td>\n",
       "      <td>BOTOL</td>\n",
       "    </tr>\n",
       "    <tr>\n",
       "      <th>7</th>\n",
       "      <td>BRG0008</td>\n",
       "      <td>P</td>\n",
       "      <td>TETRACYCLINE KAPSUL 250 MG</td>\n",
       "      <td>ZPJ1</td>\n",
       "      <td>Produk jadi</td>\n",
       "      <td>204</td>\n",
       "      <td>MARCKS</td>\n",
       "      <td>KAPSUL</td>\n",
       "    </tr>\n",
       "    <tr>\n",
       "      <th>8</th>\n",
       "      <td>BRG0009</td>\n",
       "      <td>P</td>\n",
       "      <td>AMBROXOL HC</td>\n",
       "      <td>ZPJ1</td>\n",
       "      <td>Produk jadi</td>\n",
       "      <td>207</td>\n",
       "      <td>VNS</td>\n",
       "      <td>BOTOL</td>\n",
       "    </tr>\n",
       "    <tr>\n",
       "      <th>9</th>\n",
       "      <td>BRG0010</td>\n",
       "      <td>P</td>\n",
       "      <td>PARACETAMOL</td>\n",
       "      <td>ZPJ1</td>\n",
       "      <td>Produk jadi</td>\n",
       "      <td>208</td>\n",
       "      <td>SLCYL</td>\n",
       "      <td>BOTOL</td>\n",
       "    </tr>\n",
       "  </tbody>\n",
       "</table>\n",
       "</div>"
      ],
      "text/plain": [
       "  kode_barang sektor                                nama_barang  tipe  \\\n",
       "0     BRG0001      P                              ACYCLOVIR DUS  ZPJ1   \n",
       "2     BRG0003      P                                 AMPICILLIN  ZPJ1   \n",
       "3     BRG0004      P                      TRAMADOL KAPSUL 50 MG  ZPJ1   \n",
       "4     BRG0005      P  KLORPROMAZINA TABLET SALUT SELAPUT 100 MG  ZPJ1   \n",
       "5     BRG0006      P                 KETOCONAZOLE TABLET 200 MG  ZPJ1   \n",
       "6     BRG0007      P                        ERGOTAMINE COFFEINE  ZPJ1   \n",
       "7     BRG0008      P                 TETRACYCLINE KAPSUL 250 MG  ZPJ1   \n",
       "8     BRG0009      P                                AMBROXOL HC  ZPJ1   \n",
       "9     BRG0010      P                                PARACETAMOL  ZPJ1   \n",
       "\n",
       "     nama_tipe  kode_lini      lini kemasan  \n",
       "0  Produk jadi        206  OGB & PH     DUS  \n",
       "2  Produk jadi        210    MARCKS   BOTOL  \n",
       "3  Produk jadi        201       VNS  KAPSUL  \n",
       "4  Produk jadi        203     SLCYL  TABLET  \n",
       "5  Produk jadi        205  OGB & PH  TABLET  \n",
       "6  Produk jadi        206    ETIKAL   BOTOL  \n",
       "7  Produk jadi        204    MARCKS  KAPSUL  \n",
       "8  Produk jadi        207       VNS   BOTOL  \n",
       "9  Produk jadi        208     SLCYL   BOTOL  "
      ]
     },
     "execution_count": 130,
     "metadata": {},
     "output_type": "execute_result"
    }
   ],
   "source": [
    "df = pd.DataFrame(df)\n",
    "df = df.dropna()\n",
    "df"
   ]
  },
  {
   "cell_type": "code",
   "execution_count": 133,
   "metadata": {},
   "outputs": [
    {
     "data": {
      "text/html": [
       "<div>\n",
       "<style scoped>\n",
       "    .dataframe tbody tr th:only-of-type {\n",
       "        vertical-align: middle;\n",
       "    }\n",
       "\n",
       "    .dataframe tbody tr th {\n",
       "        vertical-align: top;\n",
       "    }\n",
       "\n",
       "    .dataframe thead th {\n",
       "        text-align: right;\n",
       "    }\n",
       "</style>\n",
       "<table border=\"1\" class=\"dataframe\">\n",
       "  <thead>\n",
       "    <tr style=\"text-align: right;\">\n",
       "      <th></th>\n",
       "      <th>kode_barang</th>\n",
       "      <th>sektor</th>\n",
       "      <th>nama_barang</th>\n",
       "      <th>tipe</th>\n",
       "      <th>kode_lini</th>\n",
       "      <th>lini</th>\n",
       "      <th>kemasan</th>\n",
       "    </tr>\n",
       "  </thead>\n",
       "  <tbody>\n",
       "    <tr>\n",
       "      <th>0</th>\n",
       "      <td>BRG0001</td>\n",
       "      <td>P</td>\n",
       "      <td>ACYCLOVIR DUS</td>\n",
       "      <td>ZPJ1</td>\n",
       "      <td>206</td>\n",
       "      <td>OGB &amp; PH</td>\n",
       "      <td>DUS</td>\n",
       "    </tr>\n",
       "    <tr>\n",
       "      <th>2</th>\n",
       "      <td>BRG0003</td>\n",
       "      <td>P</td>\n",
       "      <td>AMPICILLIN</td>\n",
       "      <td>ZPJ1</td>\n",
       "      <td>210</td>\n",
       "      <td>MARCKS</td>\n",
       "      <td>BOTOL</td>\n",
       "    </tr>\n",
       "    <tr>\n",
       "      <th>3</th>\n",
       "      <td>BRG0004</td>\n",
       "      <td>P</td>\n",
       "      <td>TRAMADOL KAPSUL 50 MG</td>\n",
       "      <td>ZPJ1</td>\n",
       "      <td>201</td>\n",
       "      <td>VNS</td>\n",
       "      <td>KAPSUL</td>\n",
       "    </tr>\n",
       "    <tr>\n",
       "      <th>4</th>\n",
       "      <td>BRG0005</td>\n",
       "      <td>P</td>\n",
       "      <td>KLORPROMAZINA TABLET SALUT SELAPUT 100 MG</td>\n",
       "      <td>ZPJ1</td>\n",
       "      <td>203</td>\n",
       "      <td>SLCYL</td>\n",
       "      <td>TABLET</td>\n",
       "    </tr>\n",
       "    <tr>\n",
       "      <th>5</th>\n",
       "      <td>BRG0006</td>\n",
       "      <td>P</td>\n",
       "      <td>KETOCONAZOLE TABLET 200 MG</td>\n",
       "      <td>ZPJ1</td>\n",
       "      <td>205</td>\n",
       "      <td>OGB &amp; PH</td>\n",
       "      <td>TABLET</td>\n",
       "    </tr>\n",
       "    <tr>\n",
       "      <th>6</th>\n",
       "      <td>BRG0007</td>\n",
       "      <td>P</td>\n",
       "      <td>ERGOTAMINE COFFEINE</td>\n",
       "      <td>ZPJ1</td>\n",
       "      <td>206</td>\n",
       "      <td>ETIKAL</td>\n",
       "      <td>BOTOL</td>\n",
       "    </tr>\n",
       "    <tr>\n",
       "      <th>7</th>\n",
       "      <td>BRG0008</td>\n",
       "      <td>P</td>\n",
       "      <td>TETRACYCLINE KAPSUL 250 MG</td>\n",
       "      <td>ZPJ1</td>\n",
       "      <td>204</td>\n",
       "      <td>MARCKS</td>\n",
       "      <td>KAPSUL</td>\n",
       "    </tr>\n",
       "    <tr>\n",
       "      <th>8</th>\n",
       "      <td>BRG0009</td>\n",
       "      <td>P</td>\n",
       "      <td>AMBROXOL HC</td>\n",
       "      <td>ZPJ1</td>\n",
       "      <td>207</td>\n",
       "      <td>VNS</td>\n",
       "      <td>BOTOL</td>\n",
       "    </tr>\n",
       "    <tr>\n",
       "      <th>9</th>\n",
       "      <td>BRG0010</td>\n",
       "      <td>P</td>\n",
       "      <td>PARACETAMOL</td>\n",
       "      <td>ZPJ1</td>\n",
       "      <td>208</td>\n",
       "      <td>SLCYL</td>\n",
       "      <td>BOTOL</td>\n",
       "    </tr>\n",
       "  </tbody>\n",
       "</table>\n",
       "</div>"
      ],
      "text/plain": [
       "  kode_barang sektor                                nama_barang  tipe  \\\n",
       "0     BRG0001      P                              ACYCLOVIR DUS  ZPJ1   \n",
       "2     BRG0003      P                                 AMPICILLIN  ZPJ1   \n",
       "3     BRG0004      P                      TRAMADOL KAPSUL 50 MG  ZPJ1   \n",
       "4     BRG0005      P  KLORPROMAZINA TABLET SALUT SELAPUT 100 MG  ZPJ1   \n",
       "5     BRG0006      P                 KETOCONAZOLE TABLET 200 MG  ZPJ1   \n",
       "6     BRG0007      P                        ERGOTAMINE COFFEINE  ZPJ1   \n",
       "7     BRG0008      P                 TETRACYCLINE KAPSUL 250 MG  ZPJ1   \n",
       "8     BRG0009      P                                AMBROXOL HC  ZPJ1   \n",
       "9     BRG0010      P                                PARACETAMOL  ZPJ1   \n",
       "\n",
       "   kode_lini      lini kemasan  \n",
       "0        206  OGB & PH     DUS  \n",
       "2        210    MARCKS   BOTOL  \n",
       "3        201       VNS  KAPSUL  \n",
       "4        203     SLCYL  TABLET  \n",
       "5        205  OGB & PH  TABLET  \n",
       "6        206    ETIKAL   BOTOL  \n",
       "7        204    MARCKS  KAPSUL  \n",
       "8        207       VNS   BOTOL  \n",
       "9        208     SLCYL   BOTOL  "
      ]
     },
     "execution_count": 133,
     "metadata": {},
     "output_type": "execute_result"
    }
   ],
   "source": [
    "df = df.drop('nama_tipe', axis=1)\n",
    "df"
   ]
  },
  {
   "cell_type": "code",
   "execution_count": 135,
   "metadata": {},
   "outputs": [
    {
     "data": {
      "text/html": [
       "<div>\n",
       "<style scoped>\n",
       "    .dataframe tbody tr th:only-of-type {\n",
       "        vertical-align: middle;\n",
       "    }\n",
       "\n",
       "    .dataframe tbody tr th {\n",
       "        vertical-align: top;\n",
       "    }\n",
       "\n",
       "    .dataframe thead th {\n",
       "        text-align: right;\n",
       "    }\n",
       "</style>\n",
       "<table border=\"1\" class=\"dataframe\">\n",
       "  <thead>\n",
       "    <tr style=\"text-align: right;\">\n",
       "      <th></th>\n",
       "      <th>kode_barang</th>\n",
       "      <th>sektor</th>\n",
       "      <th>nama_barang</th>\n",
       "      <th>tipe</th>\n",
       "      <th>kode_lini</th>\n",
       "      <th>lini</th>\n",
       "      <th>kemasan</th>\n",
       "    </tr>\n",
       "  </thead>\n",
       "  <tbody>\n",
       "    <tr>\n",
       "      <th>3</th>\n",
       "      <td>BRG0004</td>\n",
       "      <td>P</td>\n",
       "      <td>TRAMADOL KAPSUL 50 MG</td>\n",
       "      <td>ZPJ1</td>\n",
       "      <td>201</td>\n",
       "      <td>VNS</td>\n",
       "      <td>KAPSUL</td>\n",
       "    </tr>\n",
       "    <tr>\n",
       "      <th>4</th>\n",
       "      <td>BRG0005</td>\n",
       "      <td>P</td>\n",
       "      <td>KLORPROMAZINA TABLET SALUT SELAPUT 100 MG</td>\n",
       "      <td>ZPJ1</td>\n",
       "      <td>203</td>\n",
       "      <td>SLCYL</td>\n",
       "      <td>TABLET</td>\n",
       "    </tr>\n",
       "    <tr>\n",
       "      <th>7</th>\n",
       "      <td>BRG0008</td>\n",
       "      <td>P</td>\n",
       "      <td>TETRACYCLINE KAPSUL 250 MG</td>\n",
       "      <td>ZPJ1</td>\n",
       "      <td>204</td>\n",
       "      <td>MARCKS</td>\n",
       "      <td>KAPSUL</td>\n",
       "    </tr>\n",
       "    <tr>\n",
       "      <th>5</th>\n",
       "      <td>BRG0006</td>\n",
       "      <td>P</td>\n",
       "      <td>KETOCONAZOLE TABLET 200 MG</td>\n",
       "      <td>ZPJ1</td>\n",
       "      <td>205</td>\n",
       "      <td>OGB &amp; PH</td>\n",
       "      <td>TABLET</td>\n",
       "    </tr>\n",
       "    <tr>\n",
       "      <th>0</th>\n",
       "      <td>BRG0001</td>\n",
       "      <td>P</td>\n",
       "      <td>ACYCLOVIR DUS</td>\n",
       "      <td>ZPJ1</td>\n",
       "      <td>206</td>\n",
       "      <td>OGB &amp; PH</td>\n",
       "      <td>DUS</td>\n",
       "    </tr>\n",
       "    <tr>\n",
       "      <th>6</th>\n",
       "      <td>BRG0007</td>\n",
       "      <td>P</td>\n",
       "      <td>ERGOTAMINE COFFEINE</td>\n",
       "      <td>ZPJ1</td>\n",
       "      <td>206</td>\n",
       "      <td>ETIKAL</td>\n",
       "      <td>BOTOL</td>\n",
       "    </tr>\n",
       "    <tr>\n",
       "      <th>8</th>\n",
       "      <td>BRG0009</td>\n",
       "      <td>P</td>\n",
       "      <td>AMBROXOL HC</td>\n",
       "      <td>ZPJ1</td>\n",
       "      <td>207</td>\n",
       "      <td>VNS</td>\n",
       "      <td>BOTOL</td>\n",
       "    </tr>\n",
       "    <tr>\n",
       "      <th>9</th>\n",
       "      <td>BRG0010</td>\n",
       "      <td>P</td>\n",
       "      <td>PARACETAMOL</td>\n",
       "      <td>ZPJ1</td>\n",
       "      <td>208</td>\n",
       "      <td>SLCYL</td>\n",
       "      <td>BOTOL</td>\n",
       "    </tr>\n",
       "    <tr>\n",
       "      <th>2</th>\n",
       "      <td>BRG0003</td>\n",
       "      <td>P</td>\n",
       "      <td>AMPICILLIN</td>\n",
       "      <td>ZPJ1</td>\n",
       "      <td>210</td>\n",
       "      <td>MARCKS</td>\n",
       "      <td>BOTOL</td>\n",
       "    </tr>\n",
       "  </tbody>\n",
       "</table>\n",
       "</div>"
      ],
      "text/plain": [
       "  kode_barang sektor                                nama_barang  tipe  \\\n",
       "3     BRG0004      P                      TRAMADOL KAPSUL 50 MG  ZPJ1   \n",
       "4     BRG0005      P  KLORPROMAZINA TABLET SALUT SELAPUT 100 MG  ZPJ1   \n",
       "7     BRG0008      P                 TETRACYCLINE KAPSUL 250 MG  ZPJ1   \n",
       "5     BRG0006      P                 KETOCONAZOLE TABLET 200 MG  ZPJ1   \n",
       "0     BRG0001      P                              ACYCLOVIR DUS  ZPJ1   \n",
       "6     BRG0007      P                        ERGOTAMINE COFFEINE  ZPJ1   \n",
       "8     BRG0009      P                                AMBROXOL HC  ZPJ1   \n",
       "9     BRG0010      P                                PARACETAMOL  ZPJ1   \n",
       "2     BRG0003      P                                 AMPICILLIN  ZPJ1   \n",
       "\n",
       "   kode_lini      lini kemasan  \n",
       "3        201       VNS  KAPSUL  \n",
       "4        203     SLCYL  TABLET  \n",
       "7        204    MARCKS  KAPSUL  \n",
       "5        205  OGB & PH  TABLET  \n",
       "0        206  OGB & PH     DUS  \n",
       "6        206    ETIKAL   BOTOL  \n",
       "8        207       VNS   BOTOL  \n",
       "9        208     SLCYL   BOTOL  \n",
       "2        210    MARCKS   BOTOL  "
      ]
     },
     "execution_count": 135,
     "metadata": {},
     "output_type": "execute_result"
    }
   ],
   "source": [
    "df = df.sort_values(by='kode_lini')\n",
    "df"
   ]
  },
  {
   "cell_type": "code",
   "execution_count": 137,
   "metadata": {},
   "outputs": [
    {
     "data": {
      "text/html": [
       "<div>\n",
       "<style scoped>\n",
       "    .dataframe tbody tr th:only-of-type {\n",
       "        vertical-align: middle;\n",
       "    }\n",
       "\n",
       "    .dataframe tbody tr th {\n",
       "        vertical-align: top;\n",
       "    }\n",
       "\n",
       "    .dataframe thead th {\n",
       "        text-align: right;\n",
       "    }\n",
       "</style>\n",
       "<table border=\"1\" class=\"dataframe\">\n",
       "  <thead>\n",
       "    <tr style=\"text-align: right;\">\n",
       "      <th></th>\n",
       "      <th>kode_barang</th>\n",
       "      <th>sektor</th>\n",
       "      <th>nama_barang</th>\n",
       "      <th>tipe</th>\n",
       "      <th>kode_lini</th>\n",
       "      <th>lini</th>\n",
       "      <th>kemasan</th>\n",
       "    </tr>\n",
       "  </thead>\n",
       "  <tbody>\n",
       "    <tr>\n",
       "      <th>3</th>\n",
       "      <td>BRG0004</td>\n",
       "      <td>P</td>\n",
       "      <td>TRAMADOL KAPSUL 50 MG</td>\n",
       "      <td>ZPJ1</td>\n",
       "      <td>201</td>\n",
       "      <td>VNS</td>\n",
       "      <td>KAPSUL</td>\n",
       "    </tr>\n",
       "    <tr>\n",
       "      <th>4</th>\n",
       "      <td>BRG0005</td>\n",
       "      <td>P</td>\n",
       "      <td>KLORPROMAZINA TABLET SALUT SELAPUT 100 MG</td>\n",
       "      <td>ZPJ1</td>\n",
       "      <td>203</td>\n",
       "      <td>SLCYL</td>\n",
       "      <td>TABLET</td>\n",
       "    </tr>\n",
       "    <tr>\n",
       "      <th>7</th>\n",
       "      <td>BRG0008</td>\n",
       "      <td>P</td>\n",
       "      <td>TETRACYCLINE KAPSUL 250 MG</td>\n",
       "      <td>ZPJ1</td>\n",
       "      <td>204</td>\n",
       "      <td>MARCKS</td>\n",
       "      <td>KAPSUL</td>\n",
       "    </tr>\n",
       "    <tr>\n",
       "      <th>5</th>\n",
       "      <td>BRG0006</td>\n",
       "      <td>P</td>\n",
       "      <td>KETOCONAZOLE TABLET 200 MG</td>\n",
       "      <td>ZPJ1</td>\n",
       "      <td>205</td>\n",
       "      <td>OGB &amp; PH</td>\n",
       "      <td>TABLET</td>\n",
       "    </tr>\n",
       "    <tr>\n",
       "      <th>0</th>\n",
       "      <td>BRG0001</td>\n",
       "      <td>P</td>\n",
       "      <td>ACYCLOVIR DUS</td>\n",
       "      <td>ZPJ1</td>\n",
       "      <td>206</td>\n",
       "      <td>OGB &amp; PH</td>\n",
       "      <td>DUS</td>\n",
       "    </tr>\n",
       "    <tr>\n",
       "      <th>6</th>\n",
       "      <td>BRG0007</td>\n",
       "      <td>P</td>\n",
       "      <td>ERGOTAMINE COFFEINE</td>\n",
       "      <td>ZPJ1</td>\n",
       "      <td>206</td>\n",
       "      <td>ETIKAL</td>\n",
       "      <td>BOTOL</td>\n",
       "    </tr>\n",
       "    <tr>\n",
       "      <th>8</th>\n",
       "      <td>BRG0009</td>\n",
       "      <td>P</td>\n",
       "      <td>AMBROXOL HC</td>\n",
       "      <td>ZPJ1</td>\n",
       "      <td>207</td>\n",
       "      <td>VNS</td>\n",
       "      <td>BOTOL</td>\n",
       "    </tr>\n",
       "    <tr>\n",
       "      <th>9</th>\n",
       "      <td>BRG0010</td>\n",
       "      <td>P</td>\n",
       "      <td>PARACETAMOL</td>\n",
       "      <td>ZPJ1</td>\n",
       "      <td>208</td>\n",
       "      <td>SLCYL</td>\n",
       "      <td>BOTOL</td>\n",
       "    </tr>\n",
       "    <tr>\n",
       "      <th>2</th>\n",
       "      <td>BRG0003</td>\n",
       "      <td>P</td>\n",
       "      <td>AMPICILLIN</td>\n",
       "      <td>ZPJ1</td>\n",
       "      <td>210</td>\n",
       "      <td>MARCKS</td>\n",
       "      <td>BOTOL</td>\n",
       "    </tr>\n",
       "  </tbody>\n",
       "</table>\n",
       "</div>"
      ],
      "text/plain": [
       "  kode_barang sektor                                nama_barang  tipe  \\\n",
       "3     BRG0004      P                      TRAMADOL KAPSUL 50 MG  ZPJ1   \n",
       "4     BRG0005      P  KLORPROMAZINA TABLET SALUT SELAPUT 100 MG  ZPJ1   \n",
       "7     BRG0008      P                 TETRACYCLINE KAPSUL 250 MG  ZPJ1   \n",
       "5     BRG0006      P                 KETOCONAZOLE TABLET 200 MG  ZPJ1   \n",
       "0     BRG0001      P                              ACYCLOVIR DUS  ZPJ1   \n",
       "6     BRG0007      P                        ERGOTAMINE COFFEINE  ZPJ1   \n",
       "8     BRG0009      P                                AMBROXOL HC  ZPJ1   \n",
       "9     BRG0010      P                                PARACETAMOL  ZPJ1   \n",
       "2     BRG0003      P                                 AMPICILLIN  ZPJ1   \n",
       "\n",
       "   kode_lini      lini kemasan  \n",
       "3        201       VNS  KAPSUL  \n",
       "4        203     SLCYL  TABLET  \n",
       "7        204    MARCKS  KAPSUL  \n",
       "5        205  OGB & PH  TABLET  \n",
       "0        206  OGB & PH     DUS  \n",
       "6        206    ETIKAL   BOTOL  \n",
       "8        207       VNS   BOTOL  \n",
       "9        208     SLCYL   BOTOL  \n",
       "2        210    MARCKS   BOTOL  "
      ]
     },
     "execution_count": 137,
     "metadata": {},
     "output_type": "execute_result"
    }
   ],
   "source": [
    "df.sum(numeric_only=False)\n",
    "df"
   ]
  },
  {
   "cell_type": "code",
   "execution_count": null,
   "metadata": {},
   "outputs": [],
   "source": []
  }
 ],
 "metadata": {
  "kernelspec": {
   "display_name": "Python 3",
   "language": "python",
   "name": "python3"
  },
  "language_info": {
   "codemirror_mode": {
    "name": "ipython",
    "version": 3
   },
   "file_extension": ".py",
   "mimetype": "text/x-python",
   "name": "python",
   "nbconvert_exporter": "python",
   "pygments_lexer": "ipython3",
   "version": "3.9.13"
  }
 },
 "nbformat": 4,
 "nbformat_minor": 2
}
